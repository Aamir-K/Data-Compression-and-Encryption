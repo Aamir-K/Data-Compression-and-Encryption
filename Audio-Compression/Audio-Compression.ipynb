{
  "nbformat": 4,
  "nbformat_minor": 0,
  "metadata": {
    "colab": {
      "name": "Audio Compression.ipynb",
      "provenance": [],
      "collapsed_sections": [],
      "authorship_tag": "ABX9TyNTc/bjE9ENuWTPpLexUxgq",
      "include_colab_link": true
    },
    "kernelspec": {
      "name": "python3",
      "display_name": "Python 3"
    }
  },
  "cells": [
    {
      "cell_type": "markdown",
      "metadata": {
        "id": "view-in-github",
        "colab_type": "text"
      },
      "source": [
        "<a href=\"https://colab.research.google.com/github/Aamir-K/Data-Compression-and-Encryption/blob/master/Audio_Compression.ipynb\" target=\"_parent\"><img src=\"https://colab.research.google.com/assets/colab-badge.svg\" alt=\"Open In Colab\"/></a>"
      ]
    },
    {
      "cell_type": "code",
      "metadata": {
        "id": "QKv7HRnumGiN",
        "colab_type": "code",
        "colab": {
          "base_uri": "https://localhost:8080/",
          "height": 279
        },
        "outputId": "b528d1aa-325e-4e98-9d56-e2d835b8dd8b"
      },
      "source": [
        "import numpy as np\n",
        " \n",
        "import wave\n",
        " \n",
        "import struct\n",
        " \n",
        "import matplotlib.pyplot as plt\n",
        " \n",
        "# frequency is the number of times a wave repeats a second\n",
        " \n",
        "frequency = 100\n",
        " \n",
        "num_samples = 48\n",
        " \n",
        "# The sampling rate of the analog to digital convert\n",
        " \n",
        "sampling_rate = 48\n",
        " \n",
        "amplitude = 1000\n",
        " \n",
        "file = \"test.wav\"\n",
        "\n",
        "y = [np.sin(2 * np.pi * frequency * x/sampling_rate) for x in range(num_samples)]\n",
        "\n",
        "\n",
        "x = np.arange(num_samples)\n",
        "plt.plot(x, y)\n",
        "plt.xlabel('sample(n)')\n",
        "plt.ylabel('voltage(V)')\n",
        "plt.show()"
      ],
      "execution_count": 13,
      "outputs": [
        {
          "output_type": "display_data",
          "data": {
            "image/png": "[encoded data removed]",
            "text/plain": [
              "<Figure size 432x288 with 1 Axes>"
            ]
          },
          "metadata": {
            "tags": [],
            "needs_background": "light"
          }
        }
      ]
    },
    {
      "cell_type": "code",
      "metadata": {
        "id": "JcPa2fsqnReB",
        "colab_type": "code",
        "colab": {}
      },
      "source": [
        "import numpy as np\n",
        " \n",
        "import wave\n",
        " \n",
        "import struct\n",
        " \n",
        "import matplotlib.pyplot as plt\n",
        " \n",
        "# frequency is the number of times a wave repeats a second\n",
        " \n",
        "frequency = 2000\n",
        " \n",
        "num_samples = 4800\n",
        " \n",
        "# The sampling rate of the analog to digital convert\n",
        " \n",
        "sampling_rate = 4800\n",
        " \n",
        "amplitude = 8000\n",
        " \n",
        "file = \"test.wav\"\n",
        "sine_wave = [np.sin(2 * np.pi * frequency * x/sampling_rate) \n",
        "for x in range(num_samples)]\n",
        "\n",
        "nframes=num_samples\n",
        " \n",
        "comptype=\"NONE\"\n",
        " \n",
        "compname=\"not compressed\"\n",
        " \n",
        "nchannels=1\n",
        " \n",
        "sampwidth=2\n",
        "\n",
        "wav_file1=wave.open(file, 'w')\n",
        " \n",
        "wav_file1.setparams((nchannels, sampwidth, int(sampling_rate), nframes, comptype, compname))\n",
        "\n",
        "for s in sine_wave:\n",
        "   wav_file1.writeframes(struct.pack('h', int(s*amplitude)))\n",
        "\n"
      ],
      "execution_count": 17,
      "outputs": []
    },
    {
      "cell_type": "code",
      "metadata": {
        "id": "pzmBzgZ6niyy",
        "colab_type": "code",
        "colab": {
          "base_uri": "https://localhost:8080/",
          "height": 84
        },
        "outputId": "5b807513-3016-44b4-df8d-d537372f15bf"
      },
      "source": [
        "!pip install audiosegment"
      ],
      "execution_count": 11,
      "outputs": [
        {
          "output_type": "stream",
          "text": [
            "Requirement already satisfied: audiosegment in /usr/local/lib/python3.6/dist-packages (0.23.0)\n",
            "Requirement already satisfied: pydub in /usr/local/lib/python3.6/dist-packages (from audiosegment) (0.24.1)\n",
            "Requirement already satisfied: webrtcvad in /usr/local/lib/python3.6/dist-packages (from audiosegment) (2.0.10)\n",
            "Requirement already satisfied: numpy in /usr/local/lib/python3.6/dist-packages (from audiosegment) (1.18.5)\n"
          ],
          "name": "stdout"
        }
      ]
    },
    {
      "cell_type": "code",
      "metadata": {
        "id": "Jpno7JkWnqqC",
        "colab_type": "code",
        "colab": {
          "base_uri": "https://localhost:8080/",
          "height": 33
        },
        "outputId": "ea94161a-64e5-4bee-a9aa-c9018c5667a9"
      },
      "source": [
        "from pydub import AudioSegment\n",
        "sound1 = AudioSegment.from_wav(\"test.wav\")\n",
        "sound2 = AudioSegment.from_wav(\"test-1.wav\")\n",
        "\n",
        "combined_sounds = sound1 + sound2\n",
        "combined_sounds.export(\"combined.wav\", format=\"wav\")"
      ],
      "execution_count": 16,
      "outputs": [
        {
          "output_type": "execute_result",
          "data": {
            "text/plain": [
              "<_io.BufferedRandom name='combined.wav'>"
            ]
          },
          "metadata": {
            "tags": []
          },
          "execution_count": 16
        }
      ]
    }
  ]
}
