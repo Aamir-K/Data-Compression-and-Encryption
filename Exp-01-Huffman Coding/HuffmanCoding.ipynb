{
  "nbformat": 4,
  "nbformat_minor": 0,
  "metadata": {
    "colab": {
      "name": "HuffmanCoding.ipynb",
      "provenance": [],
      "authorship_tag": "ABX9TyMN8FNKWXFAOGqvv69bB5//",
      "include_colab_link": true
    },
    "kernelspec": {
      "name": "python3",
      "display_name": "Python 3"
    }
  },
  "cells": [
    {
      "cell_type": "markdown",
      "metadata": {
        "id": "view-in-github",
        "colab_type": "text"
      },
      "source": [
        "<a href=\"https://colab.research.google.com/github/Aamir-K/Data-Compression-and-Encryption/blob/master/HuffmanCoding.ipynb\" target=\"_parent\"><img src=\"https://colab.research.google.com/assets/colab-badge.svg\" alt=\"Open In Colab\"/></a>"
      ]
    },
    {
      "cell_type": "markdown",
      "metadata": {
        "id": "cx2libw406dI",
        "colab_type": "text"
      },
      "source": [
        "Huffman Coding\n"
      ]
    },
    {
      "cell_type": "code",
      "metadata": {
        "id": "4u13KY-M08ur",
        "colab_type": "code",
        "colab": {
          "base_uri": "https://localhost:8080/",
          "height": 85
        },
        "outputId": "786f8475-08ae-4e39-aca2-2201257ce5dd"
      },
      "source": [
        "!pip install dahuffman"
      ],
      "execution_count": null,
      "outputs": [
        {
          "output_type": "stream",
          "text": [
            "Collecting dahuffman\n",
            "  Downloading https://files.pythonhosted.org/packages/08/c4/9c87ef391fae4b557ca3c4ef8eabd1538a7ce568174806e9d76c8f056785/dahuffman-0.4.1-py2.py3-none-any.whl\n",
            "Installing collected packages: dahuffman\n",
            "Successfully installed dahuffman-0.4.1\n"
          ],
          "name": "stdout"
        }
      ]
    },
    {
      "cell_type": "markdown",
      "metadata": {
        "id": "FCJw2-b51WvS",
        "colab_type": "text"
      },
      "source": [
        "Installed Package of Huffman Enoding and Decoding\n"
      ]
    },
    {
      "cell_type": "code",
      "metadata": {
        "id": "uTo8vZ8Z1gN8",
        "colab_type": "code",
        "colab": {}
      },
      "source": [
        "from dahuffman import HuffmanCodec\n"
      ],
      "execution_count": null,
      "outputs": []
    },
    {
      "cell_type": "code",
      "metadata": {
        "id": "x_SsFDMZ3Kfs",
        "colab_type": "code",
        "colab": {}
      },
      "source": [
        "codec = HuffmanCodec.from_frequencies({'a': 100, 'i':120, 'k':56, 't': 80, 'c':30})\n"
      ],
      "execution_count": null,
      "outputs": []
    },
    {
      "cell_type": "markdown",
      "metadata": {
        "id": "zrN0UNif3t6F",
        "colab_type": "text"
      },
      "source": [
        "Probabilities of samples = \n",
        "e=100/164=0.60\n",
        "n=120/164=0.121\n",
        "x=1/164=0.006\n",
        "i=40/164=0.243\n",
        "q=3/164=0.018"
      ]
    },
    {
      "cell_type": "code",
      "metadata": {
        "id": "oE1RMk8a4Rad",
        "colab_type": "code",
        "colab": {}
      },
      "source": [
        "encoded = codec.encode('aiktcaiktc')\n"
      ],
      "execution_count": null,
      "outputs": []
    },
    {
      "cell_type": "code",
      "metadata": {
        "id": "cnLXwqNa4dWl",
        "colab_type": "code",
        "colab": {
          "base_uri": "https://localhost:8080/",
          "height": 34
        },
        "outputId": "e6f87381-98c9-409b-93af-d7008a4c9578"
      },
      "source": [
        "encoded"
      ],
      "execution_count": null,
      "outputs": [
        {
          "output_type": "execute_result",
          "data": {
            "text/plain": [
              "b'\\xb6-\\xb1P'"
            ]
          },
          "metadata": {
            "tags": []
          },
          "execution_count": 9
        }
      ]
    },
    {
      "cell_type": "code",
      "metadata": {
        "id": "_-Tg-vXN7i5t",
        "colab_type": "code",
        "colab": {
          "base_uri": "https://localhost:8080/",
          "height": 136
        },
        "outputId": "e6e477ab-6657-43a9-e24a-bd8c526b2e6a"
      },
      "source": [
        "codec.print_code_table()\n"
      ],
      "execution_count": null,
      "outputs": [
        {
          "output_type": "stream",
          "text": [
            "Bits Code Value Symbol\n",
            "   2 00       0 't'\n",
            "   4 0100     4 _EOF\n",
            "   4 0101     5 'c'\n",
            "   3 011      3 'k'\n",
            "   2 10       2 'a'\n",
            "   2 11       3 'i'\n"
          ],
          "name": "stdout"
        }
      ]
    },
    {
      "cell_type": "code",
      "metadata": {
        "id": "SxCjphxS8hCM",
        "colab_type": "code",
        "colab": {
          "base_uri": "https://localhost:8080/",
          "height": 34
        },
        "outputId": "88f8fe5c-79d7-4f8d-d0b3-6e9defa68576"
      },
      "source": [
        "len(encoded)"
      ],
      "execution_count": null,
      "outputs": [
        {
          "output_type": "execute_result",
          "data": {
            "text/plain": [
              "4"
            ]
          },
          "metadata": {
            "tags": []
          },
          "execution_count": 11
        }
      ]
    },
    {
      "cell_type": "code",
      "metadata": {
        "id": "PVy6PMnI8sfP",
        "colab_type": "code",
        "colab": {}
      },
      "source": [
        "d='aiktcaiktc'"
      ],
      "execution_count": null,
      "outputs": []
    },
    {
      "cell_type": "code",
      "metadata": {
        "id": "KDmHWVBT87NE",
        "colab_type": "code",
        "colab": {
          "base_uri": "https://localhost:8080/",
          "height": 34
        },
        "outputId": "05d142c3-828c-43e5-8750-7d2d829a7cde"
      },
      "source": [
        "len(d)"
      ],
      "execution_count": null,
      "outputs": [
        {
          "output_type": "execute_result",
          "data": {
            "text/plain": [
              "10"
            ]
          },
          "metadata": {
            "tags": []
          },
          "execution_count": 13
        }
      ]
    },
    {
      "cell_type": "code",
      "metadata": {
        "id": "7p4uRO1n-m-l",
        "colab_type": "code",
        "colab": {}
      },
      "source": [
        "a=codec.decode(encoded)"
      ],
      "execution_count": null,
      "outputs": []
    },
    {
      "cell_type": "code",
      "metadata": {
        "id": "OVdTSXh1-8YZ",
        "colab_type": "code",
        "colab": {
          "base_uri": "https://localhost:8080/",
          "height": 35
        },
        "outputId": "5c60637e-78ca-4f70-8f22-9fc8ddc5fd10"
      },
      "source": [
        "a"
      ],
      "execution_count": null,
      "outputs": [
        {
          "output_type": "execute_result",
          "data": {
            "application/vnd.google.colaboratory.intrinsic+json": {
              "type": "string"
            },
            "text/plain": [
              "'aiktcaiktc'"
            ]
          },
          "metadata": {
            "tags": []
          },
          "execution_count": 15
        }
      ]
    }
  ]
}
